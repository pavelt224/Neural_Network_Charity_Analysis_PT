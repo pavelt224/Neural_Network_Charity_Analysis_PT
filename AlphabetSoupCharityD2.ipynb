{
 "cells": [
  {
   "cell_type": "markdown",
   "metadata": {},
   "source": [
    "### Deliverable 1: Preprocessing the Data for a Neural Network"
   ]
  },
  {
   "cell_type": "code",
   "execution_count": 1,
   "metadata": {},
   "outputs": [],
   "source": [
    "# Import our dependencies"
   ]
  },
  {
   "cell_type": "code",
   "execution_count": 2,
   "metadata": {},
   "outputs": [],
   "source": [
    "# Import our dependencies\n",
    "from sklearn.model_selection import train_test_split\n",
    "from sklearn.preprocessing import StandardScaler,OneHotEncoder\n",
    "import pandas as pd\n",
    "import tensorflow as tf"
   ]
  },
  {
   "cell_type": "code",
   "execution_count": 3,
   "metadata": {
    "tags": []
   },
   "outputs": [],
   "source": [
    "# additional dependencies we will use to visualize the data during EDA\n",
    "import matplotlib.pyplot as plt\n",
    "import seaborn as sns\n",
    "sns.set_theme(style=\"darkgrid\")"
   ]
  },
  {
   "cell_type": "code",
   "execution_count": 4,
   "metadata": {},
   "outputs": [
    {
     "data": {
      "text/html": [
       "<div>\n",
       "<style scoped>\n",
       "    .dataframe tbody tr th:only-of-type {\n",
       "        vertical-align: middle;\n",
       "    }\n",
       "\n",
       "    .dataframe tbody tr th {\n",
       "        vertical-align: top;\n",
       "    }\n",
       "\n",
       "    .dataframe thead th {\n",
       "        text-align: right;\n",
       "    }\n",
       "</style>\n",
       "<table border=\"1\" class=\"dataframe\">\n",
       "  <thead>\n",
       "    <tr style=\"text-align: right;\">\n",
       "      <th></th>\n",
       "      <th>EIN</th>\n",
       "      <th>NAME</th>\n",
       "      <th>APPLICATION_TYPE</th>\n",
       "      <th>AFFILIATION</th>\n",
       "      <th>CLASSIFICATION</th>\n",
       "      <th>USE_CASE</th>\n",
       "      <th>ORGANIZATION</th>\n",
       "      <th>STATUS</th>\n",
       "      <th>INCOME_AMT</th>\n",
       "      <th>SPECIAL_CONSIDERATIONS</th>\n",
       "      <th>ASK_AMT</th>\n",
       "      <th>IS_SUCCESSFUL</th>\n",
       "    </tr>\n",
       "  </thead>\n",
       "  <tbody>\n",
       "    <tr>\n",
       "      <th>0</th>\n",
       "      <td>10520599</td>\n",
       "      <td>BLUE KNIGHTS MOTORCYCLE CLUB</td>\n",
       "      <td>T10</td>\n",
       "      <td>Independent</td>\n",
       "      <td>C1000</td>\n",
       "      <td>ProductDev</td>\n",
       "      <td>Association</td>\n",
       "      <td>1</td>\n",
       "      <td>0</td>\n",
       "      <td>N</td>\n",
       "      <td>5000</td>\n",
       "      <td>1</td>\n",
       "    </tr>\n",
       "    <tr>\n",
       "      <th>1</th>\n",
       "      <td>10531628</td>\n",
       "      <td>AMERICAN CHESAPEAKE CLUB CHARITABLE TR</td>\n",
       "      <td>T3</td>\n",
       "      <td>Independent</td>\n",
       "      <td>C2000</td>\n",
       "      <td>Preservation</td>\n",
       "      <td>Co-operative</td>\n",
       "      <td>1</td>\n",
       "      <td>1-9999</td>\n",
       "      <td>N</td>\n",
       "      <td>108590</td>\n",
       "      <td>1</td>\n",
       "    </tr>\n",
       "    <tr>\n",
       "      <th>2</th>\n",
       "      <td>10547893</td>\n",
       "      <td>ST CLOUD PROFESSIONAL FIREFIGHTERS</td>\n",
       "      <td>T5</td>\n",
       "      <td>CompanySponsored</td>\n",
       "      <td>C3000</td>\n",
       "      <td>ProductDev</td>\n",
       "      <td>Association</td>\n",
       "      <td>1</td>\n",
       "      <td>0</td>\n",
       "      <td>N</td>\n",
       "      <td>5000</td>\n",
       "      <td>0</td>\n",
       "    </tr>\n",
       "    <tr>\n",
       "      <th>3</th>\n",
       "      <td>10553066</td>\n",
       "      <td>SOUTHSIDE ATHLETIC ASSOCIATION</td>\n",
       "      <td>T3</td>\n",
       "      <td>CompanySponsored</td>\n",
       "      <td>C2000</td>\n",
       "      <td>Preservation</td>\n",
       "      <td>Trust</td>\n",
       "      <td>1</td>\n",
       "      <td>10000-24999</td>\n",
       "      <td>N</td>\n",
       "      <td>6692</td>\n",
       "      <td>1</td>\n",
       "    </tr>\n",
       "    <tr>\n",
       "      <th>4</th>\n",
       "      <td>10556103</td>\n",
       "      <td>GENETIC RESEARCH INSTITUTE OF THE DESERT</td>\n",
       "      <td>T3</td>\n",
       "      <td>Independent</td>\n",
       "      <td>C1000</td>\n",
       "      <td>Heathcare</td>\n",
       "      <td>Trust</td>\n",
       "      <td>1</td>\n",
       "      <td>100000-499999</td>\n",
       "      <td>N</td>\n",
       "      <td>142590</td>\n",
       "      <td>1</td>\n",
       "    </tr>\n",
       "  </tbody>\n",
       "</table>\n",
       "</div>"
      ],
      "text/plain": [
       "        EIN                                      NAME APPLICATION_TYPE  \\\n",
       "0  10520599              BLUE KNIGHTS MOTORCYCLE CLUB              T10   \n",
       "1  10531628    AMERICAN CHESAPEAKE CLUB CHARITABLE TR               T3   \n",
       "2  10547893        ST CLOUD PROFESSIONAL FIREFIGHTERS               T5   \n",
       "3  10553066            SOUTHSIDE ATHLETIC ASSOCIATION               T3   \n",
       "4  10556103  GENETIC RESEARCH INSTITUTE OF THE DESERT               T3   \n",
       "\n",
       "        AFFILIATION CLASSIFICATION      USE_CASE  ORGANIZATION  STATUS  \\\n",
       "0       Independent          C1000    ProductDev   Association       1   \n",
       "1       Independent          C2000  Preservation  Co-operative       1   \n",
       "2  CompanySponsored          C3000    ProductDev   Association       1   \n",
       "3  CompanySponsored          C2000  Preservation         Trust       1   \n",
       "4       Independent          C1000     Heathcare         Trust       1   \n",
       "\n",
       "      INCOME_AMT SPECIAL_CONSIDERATIONS  ASK_AMT  IS_SUCCESSFUL  \n",
       "0              0                      N     5000              1  \n",
       "1         1-9999                      N   108590              1  \n",
       "2              0                      N     5000              0  \n",
       "3    10000-24999                      N     6692              1  \n",
       "4  100000-499999                      N   142590              1  "
      ]
     },
     "execution_count": 4,
     "metadata": {},
     "output_type": "execute_result"
    }
   ],
   "source": [
    "#  Import and read the charity_data.csv.\n",
    "import pandas as pd \n",
    "application_df = pd.read_csv(\"./Assigment_Resources/charity_data.csv\")\n",
    "application_df.head()"
   ]
  },
  {
   "cell_type": "code",
   "execution_count": 5,
   "metadata": {},
   "outputs": [
    {
     "name": "stdout",
     "output_type": "stream",
     "text": [
      "<class 'pandas.core.frame.DataFrame'>\n",
      "RangeIndex: 34299 entries, 0 to 34298\n",
      "Data columns (total 12 columns):\n",
      " #   Column                  Non-Null Count  Dtype \n",
      "---  ------                  --------------  ----- \n",
      " 0   EIN                     34299 non-null  int64 \n",
      " 1   NAME                    34299 non-null  object\n",
      " 2   APPLICATION_TYPE        34299 non-null  object\n",
      " 3   AFFILIATION             34299 non-null  object\n",
      " 4   CLASSIFICATION          34299 non-null  object\n",
      " 5   USE_CASE                34299 non-null  object\n",
      " 6   ORGANIZATION            34299 non-null  object\n",
      " 7   STATUS                  34299 non-null  int64 \n",
      " 8   INCOME_AMT              34299 non-null  object\n",
      " 9   SPECIAL_CONSIDERATIONS  34299 non-null  object\n",
      " 10  ASK_AMT                 34299 non-null  int64 \n",
      " 11  IS_SUCCESSFUL           34299 non-null  int64 \n",
      "dtypes: int64(4), object(8)\n",
      "memory usage: 3.1+ MB\n"
     ]
    }
   ],
   "source": [
    "# look at the dta types\n",
    "application_df.info()"
   ]
  },
  {
   "cell_type": "code",
   "execution_count": 6,
   "metadata": {},
   "outputs": [
    {
     "data": {
      "text/plain": [
       "(34299, 12)"
      ]
     },
     "execution_count": 6,
     "metadata": {},
     "output_type": "execute_result"
    }
   ],
   "source": [
    "# check the shape\n",
    "application_df.shape"
   ]
  },
  {
   "cell_type": "markdown",
   "metadata": {},
   "source": [
    "# General Data Cleaning and Feature Selection"
   ]
  },
  {
   "cell_type": "code",
   "execution_count": 7,
   "metadata": {},
   "outputs": [
    {
     "name": "stdout",
     "output_type": "stream",
     "text": [
      "<class 'pandas.core.frame.DataFrame'>\n",
      "RangeIndex: 34299 entries, 0 to 34298\n",
      "Data columns (total 10 columns):\n",
      " #   Column                  Non-Null Count  Dtype \n",
      "---  ------                  --------------  ----- \n",
      " 0   APPLICATION_TYPE        34299 non-null  object\n",
      " 1   AFFILIATION             34299 non-null  object\n",
      " 2   CLASSIFICATION          34299 non-null  object\n",
      " 3   USE_CASE                34299 non-null  object\n",
      " 4   ORGANIZATION            34299 non-null  object\n",
      " 5   STATUS                  34299 non-null  int64 \n",
      " 6   INCOME_AMT              34299 non-null  object\n",
      " 7   SPECIAL_CONSIDERATIONS  34299 non-null  object\n",
      " 8   ASK_AMT                 34299 non-null  int64 \n",
      " 9   IS_SUCCESSFUL           34299 non-null  int64 \n",
      "dtypes: int64(3), object(7)\n",
      "memory usage: 2.6+ MB\n"
     ]
    },
    {
     "name": "stderr",
     "output_type": "stream",
     "text": [
      "C:\\Users\\ptene\\anaconda3\\envs\\mlenv\\lib\\site-packages\\ipykernel_launcher.py:2: FutureWarning: In a future version of pandas all arguments of DataFrame.drop except for the argument 'labels' will be keyword-only\n",
      "  \n"
     ]
    }
   ],
   "source": [
    "# Drop the non-beneficial ID columns, 'EIN' and 'NAME'.\n",
    "application_df = application_df.drop([\"EIN\", \"NAME\"], 1)\n",
    "application_df.info()"
   ]
  },
  {
   "cell_type": "code",
   "execution_count": 8,
   "metadata": {},
   "outputs": [
    {
     "data": {
      "text/plain": [
       "(34299, 10)"
      ]
     },
     "execution_count": 8,
     "metadata": {},
     "output_type": "execute_result"
    }
   ],
   "source": [
    "# check the shape\n",
    "application_df.shape"
   ]
  },
  {
   "cell_type": "markdown",
   "metadata": {},
   "source": [
    " # Determine the number of unique values in each column."
   ]
  },
  {
   "cell_type": "code",
   "execution_count": 9,
   "metadata": {},
   "outputs": [
    {
     "data": {
      "text/plain": [
       "APPLICATION_TYPE            17\n",
       "AFFILIATION                  6\n",
       "CLASSIFICATION              71\n",
       "USE_CASE                     5\n",
       "ORGANIZATION                 4\n",
       "STATUS                       2\n",
       "INCOME_AMT                   9\n",
       "SPECIAL_CONSIDERATIONS       2\n",
       "ASK_AMT                   8747\n",
       "IS_SUCCESSFUL                2\n",
       "dtype: int64"
      ]
     },
     "execution_count": 9,
     "metadata": {},
     "output_type": "execute_result"
    }
   ],
   "source": [
    "# Determine the number of unique values in each column.\n",
    "application_df.nunique()"
   ]
  },
  {
   "cell_type": "code",
   "execution_count": 10,
   "metadata": {},
   "outputs": [
    {
     "data": {
      "text/plain": [
       "T3     27037\n",
       "T4      1542\n",
       "T6      1216\n",
       "T5      1173\n",
       "T19     1065\n",
       "T8       737\n",
       "T7       725\n",
       "T10      528\n",
       "T9       156\n",
       "T13       66\n",
       "T12       27\n",
       "T2        16\n",
       "T25        3\n",
       "T14        3\n",
       "T29        2\n",
       "T15        2\n",
       "T17        1\n",
       "Name: APPLICATION_TYPE, dtype: int64"
      ]
     },
     "execution_count": 10,
     "metadata": {},
     "output_type": "execute_result"
    }
   ],
   "source": [
    "# Look at APPLICATION_TYPE value counts for binning\n",
    "application_counts = application_df[\"APPLICATION_TYPE\"].value_counts()\n",
    "application_counts"
   ]
  },
  {
   "cell_type": "code",
   "execution_count": 11,
   "metadata": {},
   "outputs": [
    {
     "data": {
      "text/plain": [
       "<AxesSubplot:ylabel='Density'>"
      ]
     },
     "execution_count": 11,
     "metadata": {},
     "output_type": "execute_result"
    },
    {
     "data": {
      "image/png": "[encoded data removed]",
      "text/plain": [
       "<Figure size 432x288 with 1 Axes>"
      ]
     },
     "metadata": {},
     "output_type": "display_data"
    }
   ],
   "source": [
    "# Visualize the value counts of APPLICATION_TYPE\n",
    "application_counts.plot.density()"
   ]
  },
  {
   "cell_type": "code",
   "execution_count": 12,
   "metadata": {},
   "outputs": [],
   "source": [
    "# list(application_counts[application_counts < 500].index)"
   ]
  },
  {
   "cell_type": "code",
   "execution_count": 13,
   "metadata": {},
   "outputs": [],
   "source": [
    "# replace_application = list(application_counts[application_counts < 500].index)"
   ]
  },
  {
   "cell_type": "code",
   "execution_count": 14,
   "metadata": {},
   "outputs": [
    {
     "data": {
      "text/plain": [
       "T3       27037\n",
       "T4        1542\n",
       "T6        1216\n",
       "T5        1173\n",
       "T19       1065\n",
       "T8         737\n",
       "T7         725\n",
       "T10        528\n",
       "Other      276\n",
       "Name: APPLICATION_TYPE, dtype: int64"
      ]
     },
     "execution_count": 14,
     "metadata": {},
     "output_type": "execute_result"
    }
   ],
   "source": [
    "# Determine which values to replace if counts are less than ...? For less than 100\n",
    "replace_application = list(application_counts[application_counts < 500].index)\n",
    "\n",
    "# Replace in dataframe\n",
    "for app in replace_application:\n",
    "    application_df[\"APPLICATION_TYPE\"] = application_df.APPLICATION_TYPE.replace(app,\"Other\")\n",
    "    \n",
    "# Check to make sure binning was successful\n",
    "application_df.APPLICATION_TYPE.value_counts()\n"
   ]
  },
  {
   "cell_type": "code",
   "execution_count": 15,
   "metadata": {},
   "outputs": [
    {
     "data": {
      "text/plain": [
       "C1000    17326\n",
       "C2000     6074\n",
       "C1200     4837\n",
       "C3000     1918\n",
       "C2100     1883\n",
       "         ...  \n",
       "C4120        1\n",
       "C8210        1\n",
       "C2561        1\n",
       "C4500        1\n",
       "C2150        1\n",
       "Name: CLASSIFICATION, Length: 71, dtype: int64"
      ]
     },
     "execution_count": 15,
     "metadata": {},
     "output_type": "execute_result"
    }
   ],
   "source": [
    "# Look at CLASSIFICATION value counts for binning\n",
    "class_counts = application_df[\"CLASSIFICATION\"].value_counts()\n",
    "class_counts"
   ]
  },
  {
   "cell_type": "code",
   "execution_count": 16,
   "metadata": {},
   "outputs": [
    {
     "data": {
      "text/plain": [
       "<AxesSubplot:ylabel='Density'>"
      ]
     },
     "execution_count": 16,
     "metadata": {},
     "output_type": "execute_result"
    },
    {
     "data": {
      "image/png": "[encoded data removed]",
      "text/plain": [
       "<Figure size 432x288 with 1 Axes>"
      ]
     },
     "metadata": {},
     "output_type": "display_data"
    }
   ],
   "source": [
    "# Visualize the value counts of CLASSIFICATION\n",
    "#  YOUR CODE GOES HERE\n",
    "class_counts.plot.density()"
   ]
  },
  {
   "cell_type": "code",
   "execution_count": 17,
   "metadata": {},
   "outputs": [
    {
     "data": {
      "text/plain": [
       "C1000    False\n",
       "C2000    False\n",
       "C1200    False\n",
       "C3000    False\n",
       "C2100    False\n",
       "         ...  \n",
       "C4120     True\n",
       "C8210     True\n",
       "C2561     True\n",
       "C4500     True\n",
       "C2150     True\n",
       "Name: CLASSIFICATION, Length: 71, dtype: bool"
      ]
     },
     "execution_count": 17,
     "metadata": {},
     "output_type": "execute_result"
    }
   ],
   "source": [
    "class_counts < 1000"
   ]
  },
  {
   "cell_type": "code",
   "execution_count": 18,
   "metadata": {},
   "outputs": [
    {
     "data": {
      "text/plain": [
       "['C7000',\n",
       " 'C1700',\n",
       " 'C4000',\n",
       " 'C5000',\n",
       " 'C1270',\n",
       " 'C2700',\n",
       " 'C2800',\n",
       " 'C7100',\n",
       " 'C1300',\n",
       " 'C1280',\n",
       " 'C1230',\n",
       " 'C1400',\n",
       " 'C7200',\n",
       " 'C2300',\n",
       " 'C1240',\n",
       " 'C8000',\n",
       " 'C7120',\n",
       " 'C1500',\n",
       " 'C1800',\n",
       " 'C6000',\n",
       " 'C1250',\n",
       " 'C8200',\n",
       " 'C1238',\n",
       " 'C1278',\n",
       " 'C1235',\n",
       " 'C1237',\n",
       " 'C7210',\n",
       " 'C2400',\n",
       " 'C1720',\n",
       " 'C4100',\n",
       " 'C1257',\n",
       " 'C1600',\n",
       " 'C1260',\n",
       " 'C2710',\n",
       " 'C0',\n",
       " 'C3200',\n",
       " 'C1234',\n",
       " 'C1246',\n",
       " 'C1267',\n",
       " 'C1256',\n",
       " 'C2190',\n",
       " 'C4200',\n",
       " 'C2600',\n",
       " 'C5200',\n",
       " 'C1370',\n",
       " 'C1248',\n",
       " 'C6100',\n",
       " 'C1820',\n",
       " 'C1900',\n",
       " 'C1236',\n",
       " 'C3700',\n",
       " 'C2570',\n",
       " 'C1580',\n",
       " 'C1245',\n",
       " 'C2500',\n",
       " 'C1570',\n",
       " 'C1283',\n",
       " 'C2380',\n",
       " 'C1732',\n",
       " 'C1728',\n",
       " 'C2170',\n",
       " 'C4120',\n",
       " 'C8210',\n",
       " 'C2561',\n",
       " 'C4500',\n",
       " 'C2150']"
      ]
     },
     "execution_count": 18,
     "metadata": {},
     "output_type": "execute_result"
    }
   ],
   "source": [
    "list(class_counts[class_counts <1000].index)"
   ]
  },
  {
   "cell_type": "code",
   "execution_count": 19,
   "metadata": {},
   "outputs": [
    {
     "data": {
      "text/plain": [
       "C1000    17326\n",
       "C2000     6074\n",
       "C1200     4837\n",
       "Other     2261\n",
       "C3000     1918\n",
       "C2100     1883\n",
       "Name: CLASSIFICATION, dtype: int64"
      ]
     },
     "execution_count": 19,
     "metadata": {},
     "output_type": "execute_result"
    }
   ],
   "source": [
    "# Determine which values to replace if counts are less than 1000?\n",
    "replace_class = list(class_counts[class_counts <1000].index)\n",
    "\n",
    "# Replace in dataframe\n",
    "for cls in replace_class:\n",
    "    application_df.CLASSIFICATION = application_df.CLASSIFICATION.replace(cls,\"Other\")\n",
    "    \n",
    "# Check to make sure binning was successful\n",
    "application_df.CLASSIFICATION.value_counts()"
   ]
  },
  {
   "cell_type": "code",
   "execution_count": 20,
   "metadata": {},
   "outputs": [
    {
     "data": {
      "text/plain": [
       "APPLICATION_TYPE             9\n",
       "AFFILIATION                  6\n",
       "CLASSIFICATION               6\n",
       "USE_CASE                     5\n",
       "ORGANIZATION                 4\n",
       "STATUS                       2\n",
       "INCOME_AMT                   9\n",
       "SPECIAL_CONSIDERATIONS       2\n",
       "ASK_AMT                   8747\n",
       "IS_SUCCESSFUL                2\n",
       "dtype: int64"
      ]
     },
     "execution_count": 20,
     "metadata": {},
     "output_type": "execute_result"
    }
   ],
   "source": [
    "application_df.nunique()"
   ]
  },
  {
   "cell_type": "code",
   "execution_count": 21,
   "metadata": {},
   "outputs": [
    {
     "name": "stdout",
     "output_type": "stream",
     "text": [
      "<class 'pandas.core.frame.DataFrame'>\n",
      "RangeIndex: 34299 entries, 0 to 34298\n",
      "Data columns (total 10 columns):\n",
      " #   Column                  Non-Null Count  Dtype \n",
      "---  ------                  --------------  ----- \n",
      " 0   APPLICATION_TYPE        34299 non-null  object\n",
      " 1   AFFILIATION             34299 non-null  object\n",
      " 2   CLASSIFICATION          34299 non-null  object\n",
      " 3   USE_CASE                34299 non-null  object\n",
      " 4   ORGANIZATION            34299 non-null  object\n",
      " 5   STATUS                  34299 non-null  int64 \n",
      " 6   INCOME_AMT              34299 non-null  object\n",
      " 7   SPECIAL_CONSIDERATIONS  34299 non-null  object\n",
      " 8   ASK_AMT                 34299 non-null  int64 \n",
      " 9   IS_SUCCESSFUL           34299 non-null  int64 \n",
      "dtypes: int64(3), object(7)\n",
      "memory usage: 2.6+ MB\n"
     ]
    }
   ],
   "source": [
    "application_df.info()"
   ]
  },
  {
   "cell_type": "code",
   "execution_count": 22,
   "metadata": {},
   "outputs": [
    {
     "data": {
      "text/plain": [
       "APPLICATION_TYPE          object\n",
       "AFFILIATION               object\n",
       "CLASSIFICATION            object\n",
       "USE_CASE                  object\n",
       "ORGANIZATION              object\n",
       "STATUS                     int64\n",
       "INCOME_AMT                object\n",
       "SPECIAL_CONSIDERATIONS    object\n",
       "ASK_AMT                    int64\n",
       "IS_SUCCESSFUL              int64\n",
       "dtype: object"
      ]
     },
     "execution_count": 22,
     "metadata": {},
     "output_type": "execute_result"
    }
   ],
   "source": [
    "application_df.dtypes"
   ]
  },
  {
   "cell_type": "code",
   "execution_count": 23,
   "metadata": {},
   "outputs": [
    {
     "data": {
      "text/plain": [
       "[APPLICATION_TYPE           True\n",
       " AFFILIATION                True\n",
       " CLASSIFICATION             True\n",
       " USE_CASE                   True\n",
       " ORGANIZATION               True\n",
       " STATUS                    False\n",
       " INCOME_AMT                 True\n",
       " SPECIAL_CONSIDERATIONS     True\n",
       " ASK_AMT                   False\n",
       " IS_SUCCESSFUL             False\n",
       " dtype: bool]"
      ]
     },
     "execution_count": 23,
     "metadata": {},
     "output_type": "execute_result"
    }
   ],
   "source": [
    "[application_df.dtypes == \"object\"]"
   ]
  },
  {
   "cell_type": "code",
   "execution_count": 24,
   "metadata": {},
   "outputs": [
    {
     "data": {
      "text/plain": [
       "['APPLICATION_TYPE',\n",
       " 'AFFILIATION',\n",
       " 'CLASSIFICATION',\n",
       " 'USE_CASE',\n",
       " 'ORGANIZATION',\n",
       " 'INCOME_AMT',\n",
       " 'SPECIAL_CONSIDERATIONS']"
      ]
     },
     "execution_count": 24,
     "metadata": {},
     "output_type": "execute_result"
    }
   ],
   "source": [
    "application_df.dtypes[application_df.dtypes == \"object\"].index.tolist()"
   ]
  },
  {
   "cell_type": "code",
   "execution_count": 25,
   "metadata": {},
   "outputs": [],
   "source": [
    "# Generate our categorical variable lists\n",
    "application_cat = application_df.dtypes[application_df.dtypes == \"object\"].index.tolist()"
   ]
  },
  {
   "cell_type": "code",
   "execution_count": 26,
   "metadata": {},
   "outputs": [
    {
     "data": {
      "text/html": [
       "<div>\n",
       "<style scoped>\n",
       "    .dataframe tbody tr th:only-of-type {\n",
       "        vertical-align: middle;\n",
       "    }\n",
       "\n",
       "    .dataframe tbody tr th {\n",
       "        vertical-align: top;\n",
       "    }\n",
       "\n",
       "    .dataframe thead th {\n",
       "        text-align: right;\n",
       "    }\n",
       "</style>\n",
       "<table border=\"1\" class=\"dataframe\">\n",
       "  <thead>\n",
       "    <tr style=\"text-align: right;\">\n",
       "      <th></th>\n",
       "      <th>APPLICATION_TYPE</th>\n",
       "      <th>AFFILIATION</th>\n",
       "      <th>CLASSIFICATION</th>\n",
       "      <th>USE_CASE</th>\n",
       "      <th>ORGANIZATION</th>\n",
       "      <th>INCOME_AMT</th>\n",
       "      <th>SPECIAL_CONSIDERATIONS</th>\n",
       "    </tr>\n",
       "  </thead>\n",
       "  <tbody>\n",
       "    <tr>\n",
       "      <th>0</th>\n",
       "      <td>T10</td>\n",
       "      <td>Independent</td>\n",
       "      <td>C1000</td>\n",
       "      <td>ProductDev</td>\n",
       "      <td>Association</td>\n",
       "      <td>0</td>\n",
       "      <td>N</td>\n",
       "    </tr>\n",
       "    <tr>\n",
       "      <th>1</th>\n",
       "      <td>T3</td>\n",
       "      <td>Independent</td>\n",
       "      <td>C2000</td>\n",
       "      <td>Preservation</td>\n",
       "      <td>Co-operative</td>\n",
       "      <td>1-9999</td>\n",
       "      <td>N</td>\n",
       "    </tr>\n",
       "    <tr>\n",
       "      <th>2</th>\n",
       "      <td>T5</td>\n",
       "      <td>CompanySponsored</td>\n",
       "      <td>C3000</td>\n",
       "      <td>ProductDev</td>\n",
       "      <td>Association</td>\n",
       "      <td>0</td>\n",
       "      <td>N</td>\n",
       "    </tr>\n",
       "    <tr>\n",
       "      <th>3</th>\n",
       "      <td>T3</td>\n",
       "      <td>CompanySponsored</td>\n",
       "      <td>C2000</td>\n",
       "      <td>Preservation</td>\n",
       "      <td>Trust</td>\n",
       "      <td>10000-24999</td>\n",
       "      <td>N</td>\n",
       "    </tr>\n",
       "    <tr>\n",
       "      <th>4</th>\n",
       "      <td>T3</td>\n",
       "      <td>Independent</td>\n",
       "      <td>C1000</td>\n",
       "      <td>Heathcare</td>\n",
       "      <td>Trust</td>\n",
       "      <td>100000-499999</td>\n",
       "      <td>N</td>\n",
       "    </tr>\n",
       "    <tr>\n",
       "      <th>...</th>\n",
       "      <td>...</td>\n",
       "      <td>...</td>\n",
       "      <td>...</td>\n",
       "      <td>...</td>\n",
       "      <td>...</td>\n",
       "      <td>...</td>\n",
       "      <td>...</td>\n",
       "    </tr>\n",
       "    <tr>\n",
       "      <th>34294</th>\n",
       "      <td>T4</td>\n",
       "      <td>Independent</td>\n",
       "      <td>C1000</td>\n",
       "      <td>ProductDev</td>\n",
       "      <td>Association</td>\n",
       "      <td>0</td>\n",
       "      <td>N</td>\n",
       "    </tr>\n",
       "    <tr>\n",
       "      <th>34295</th>\n",
       "      <td>T4</td>\n",
       "      <td>CompanySponsored</td>\n",
       "      <td>C3000</td>\n",
       "      <td>ProductDev</td>\n",
       "      <td>Association</td>\n",
       "      <td>0</td>\n",
       "      <td>N</td>\n",
       "    </tr>\n",
       "    <tr>\n",
       "      <th>34296</th>\n",
       "      <td>T3</td>\n",
       "      <td>CompanySponsored</td>\n",
       "      <td>C2000</td>\n",
       "      <td>Preservation</td>\n",
       "      <td>Association</td>\n",
       "      <td>0</td>\n",
       "      <td>N</td>\n",
       "    </tr>\n",
       "    <tr>\n",
       "      <th>34297</th>\n",
       "      <td>T5</td>\n",
       "      <td>Independent</td>\n",
       "      <td>C3000</td>\n",
       "      <td>ProductDev</td>\n",
       "      <td>Association</td>\n",
       "      <td>0</td>\n",
       "      <td>N</td>\n",
       "    </tr>\n",
       "    <tr>\n",
       "      <th>34298</th>\n",
       "      <td>T3</td>\n",
       "      <td>Independent</td>\n",
       "      <td>C1000</td>\n",
       "      <td>Preservation</td>\n",
       "      <td>Co-operative</td>\n",
       "      <td>1M-5M</td>\n",
       "      <td>N</td>\n",
       "    </tr>\n",
       "  </tbody>\n",
       "</table>\n",
       "<p>34299 rows × 7 columns</p>\n",
       "</div>"
      ],
      "text/plain": [
       "      APPLICATION_TYPE       AFFILIATION CLASSIFICATION      USE_CASE  \\\n",
       "0                  T10       Independent          C1000    ProductDev   \n",
       "1                   T3       Independent          C2000  Preservation   \n",
       "2                   T5  CompanySponsored          C3000    ProductDev   \n",
       "3                   T3  CompanySponsored          C2000  Preservation   \n",
       "4                   T3       Independent          C1000     Heathcare   \n",
       "...                ...               ...            ...           ...   \n",
       "34294               T4       Independent          C1000    ProductDev   \n",
       "34295               T4  CompanySponsored          C3000    ProductDev   \n",
       "34296               T3  CompanySponsored          C2000  Preservation   \n",
       "34297               T5       Independent          C3000    ProductDev   \n",
       "34298               T3       Independent          C1000  Preservation   \n",
       "\n",
       "       ORGANIZATION     INCOME_AMT SPECIAL_CONSIDERATIONS  \n",
       "0       Association              0                      N  \n",
       "1      Co-operative         1-9999                      N  \n",
       "2       Association              0                      N  \n",
       "3             Trust    10000-24999                      N  \n",
       "4             Trust  100000-499999                      N  \n",
       "...             ...            ...                    ...  \n",
       "34294   Association              0                      N  \n",
       "34295   Association              0                      N  \n",
       "34296   Association              0                      N  \n",
       "34297   Association              0                      N  \n",
       "34298  Co-operative          1M-5M                      N  \n",
       "\n",
       "[34299 rows x 7 columns]"
      ]
     },
     "execution_count": 26,
     "metadata": {},
     "output_type": "execute_result"
    }
   ],
   "source": [
    "# test\n",
    "application_df[application_cat]"
   ]
  },
  {
   "cell_type": "code",
   "execution_count": 27,
   "metadata": {},
   "outputs": [
    {
     "data": {
      "text/html": [
       "<div>\n",
       "<style scoped>\n",
       "    .dataframe tbody tr th:only-of-type {\n",
       "        vertical-align: middle;\n",
       "    }\n",
       "\n",
       "    .dataframe tbody tr th {\n",
       "        vertical-align: top;\n",
       "    }\n",
       "\n",
       "    .dataframe thead th {\n",
       "        text-align: right;\n",
       "    }\n",
       "</style>\n",
       "<table border=\"1\" class=\"dataframe\">\n",
       "  <thead>\n",
       "    <tr style=\"text-align: right;\">\n",
       "      <th></th>\n",
       "      <th>APPLICATION_TYPE_Other</th>\n",
       "      <th>APPLICATION_TYPE_T10</th>\n",
       "      <th>APPLICATION_TYPE_T19</th>\n",
       "      <th>APPLICATION_TYPE_T3</th>\n",
       "      <th>APPLICATION_TYPE_T4</th>\n",
       "      <th>APPLICATION_TYPE_T5</th>\n",
       "      <th>APPLICATION_TYPE_T6</th>\n",
       "      <th>APPLICATION_TYPE_T7</th>\n",
       "      <th>APPLICATION_TYPE_T8</th>\n",
       "      <th>AFFILIATION_CompanySponsored</th>\n",
       "      <th>...</th>\n",
       "      <th>INCOME_AMT_1-9999</th>\n",
       "      <th>INCOME_AMT_10000-24999</th>\n",
       "      <th>INCOME_AMT_100000-499999</th>\n",
       "      <th>INCOME_AMT_10M-50M</th>\n",
       "      <th>INCOME_AMT_1M-5M</th>\n",
       "      <th>INCOME_AMT_25000-99999</th>\n",
       "      <th>INCOME_AMT_50M+</th>\n",
       "      <th>INCOME_AMT_5M-10M</th>\n",
       "      <th>SPECIAL_CONSIDERATIONS_N</th>\n",
       "      <th>SPECIAL_CONSIDERATIONS_Y</th>\n",
       "    </tr>\n",
       "  </thead>\n",
       "  <tbody>\n",
       "    <tr>\n",
       "      <th>0</th>\n",
       "      <td>0.0</td>\n",
       "      <td>1.0</td>\n",
       "      <td>0.0</td>\n",
       "      <td>0.0</td>\n",
       "      <td>0.0</td>\n",
       "      <td>0.0</td>\n",
       "      <td>0.0</td>\n",
       "      <td>0.0</td>\n",
       "      <td>0.0</td>\n",
       "      <td>0.0</td>\n",
       "      <td>...</td>\n",
       "      <td>0.0</td>\n",
       "      <td>0.0</td>\n",
       "      <td>0.0</td>\n",
       "      <td>0.0</td>\n",
       "      <td>0.0</td>\n",
       "      <td>0.0</td>\n",
       "      <td>0.0</td>\n",
       "      <td>0.0</td>\n",
       "      <td>1.0</td>\n",
       "      <td>0.0</td>\n",
       "    </tr>\n",
       "    <tr>\n",
       "      <th>1</th>\n",
       "      <td>0.0</td>\n",
       "      <td>0.0</td>\n",
       "      <td>0.0</td>\n",
       "      <td>1.0</td>\n",
       "      <td>0.0</td>\n",
       "      <td>0.0</td>\n",
       "      <td>0.0</td>\n",
       "      <td>0.0</td>\n",
       "      <td>0.0</td>\n",
       "      <td>0.0</td>\n",
       "      <td>...</td>\n",
       "      <td>1.0</td>\n",
       "      <td>0.0</td>\n",
       "      <td>0.0</td>\n",
       "      <td>0.0</td>\n",
       "      <td>0.0</td>\n",
       "      <td>0.0</td>\n",
       "      <td>0.0</td>\n",
       "      <td>0.0</td>\n",
       "      <td>1.0</td>\n",
       "      <td>0.0</td>\n",
       "    </tr>\n",
       "    <tr>\n",
       "      <th>2</th>\n",
       "      <td>0.0</td>\n",
       "      <td>0.0</td>\n",
       "      <td>0.0</td>\n",
       "      <td>0.0</td>\n",
       "      <td>0.0</td>\n",
       "      <td>1.0</td>\n",
       "      <td>0.0</td>\n",
       "      <td>0.0</td>\n",
       "      <td>0.0</td>\n",
       "      <td>1.0</td>\n",
       "      <td>...</td>\n",
       "      <td>0.0</td>\n",
       "      <td>0.0</td>\n",
       "      <td>0.0</td>\n",
       "      <td>0.0</td>\n",
       "      <td>0.0</td>\n",
       "      <td>0.0</td>\n",
       "      <td>0.0</td>\n",
       "      <td>0.0</td>\n",
       "      <td>1.0</td>\n",
       "      <td>0.0</td>\n",
       "    </tr>\n",
       "    <tr>\n",
       "      <th>3</th>\n",
       "      <td>0.0</td>\n",
       "      <td>0.0</td>\n",
       "      <td>0.0</td>\n",
       "      <td>1.0</td>\n",
       "      <td>0.0</td>\n",
       "      <td>0.0</td>\n",
       "      <td>0.0</td>\n",
       "      <td>0.0</td>\n",
       "      <td>0.0</td>\n",
       "      <td>1.0</td>\n",
       "      <td>...</td>\n",
       "      <td>0.0</td>\n",
       "      <td>1.0</td>\n",
       "      <td>0.0</td>\n",
       "      <td>0.0</td>\n",
       "      <td>0.0</td>\n",
       "      <td>0.0</td>\n",
       "      <td>0.0</td>\n",
       "      <td>0.0</td>\n",
       "      <td>1.0</td>\n",
       "      <td>0.0</td>\n",
       "    </tr>\n",
       "    <tr>\n",
       "      <th>4</th>\n",
       "      <td>0.0</td>\n",
       "      <td>0.0</td>\n",
       "      <td>0.0</td>\n",
       "      <td>1.0</td>\n",
       "      <td>0.0</td>\n",
       "      <td>0.0</td>\n",
       "      <td>0.0</td>\n",
       "      <td>0.0</td>\n",
       "      <td>0.0</td>\n",
       "      <td>0.0</td>\n",
       "      <td>...</td>\n",
       "      <td>0.0</td>\n",
       "      <td>0.0</td>\n",
       "      <td>1.0</td>\n",
       "      <td>0.0</td>\n",
       "      <td>0.0</td>\n",
       "      <td>0.0</td>\n",
       "      <td>0.0</td>\n",
       "      <td>0.0</td>\n",
       "      <td>1.0</td>\n",
       "      <td>0.0</td>\n",
       "    </tr>\n",
       "  </tbody>\n",
       "</table>\n",
       "<p>5 rows × 41 columns</p>\n",
       "</div>"
      ],
      "text/plain": [
       "   APPLICATION_TYPE_Other  APPLICATION_TYPE_T10  APPLICATION_TYPE_T19  \\\n",
       "0                     0.0                   1.0                   0.0   \n",
       "1                     0.0                   0.0                   0.0   \n",
       "2                     0.0                   0.0                   0.0   \n",
       "3                     0.0                   0.0                   0.0   \n",
       "4                     0.0                   0.0                   0.0   \n",
       "\n",
       "   APPLICATION_TYPE_T3  APPLICATION_TYPE_T4  APPLICATION_TYPE_T5  \\\n",
       "0                  0.0                  0.0                  0.0   \n",
       "1                  1.0                  0.0                  0.0   \n",
       "2                  0.0                  0.0                  1.0   \n",
       "3                  1.0                  0.0                  0.0   \n",
       "4                  1.0                  0.0                  0.0   \n",
       "\n",
       "   APPLICATION_TYPE_T6  APPLICATION_TYPE_T7  APPLICATION_TYPE_T8  \\\n",
       "0                  0.0                  0.0                  0.0   \n",
       "1                  0.0                  0.0                  0.0   \n",
       "2                  0.0                  0.0                  0.0   \n",
       "3                  0.0                  0.0                  0.0   \n",
       "4                  0.0                  0.0                  0.0   \n",
       "\n",
       "   AFFILIATION_CompanySponsored  ...  INCOME_AMT_1-9999  \\\n",
       "0                           0.0  ...                0.0   \n",
       "1                           0.0  ...                1.0   \n",
       "2                           1.0  ...                0.0   \n",
       "3                           1.0  ...                0.0   \n",
       "4                           0.0  ...                0.0   \n",
       "\n",
       "   INCOME_AMT_10000-24999  INCOME_AMT_100000-499999  INCOME_AMT_10M-50M  \\\n",
       "0                     0.0                       0.0                 0.0   \n",
       "1                     0.0                       0.0                 0.0   \n",
       "2                     0.0                       0.0                 0.0   \n",
       "3                     1.0                       0.0                 0.0   \n",
       "4                     0.0                       1.0                 0.0   \n",
       "\n",
       "   INCOME_AMT_1M-5M  INCOME_AMT_25000-99999  INCOME_AMT_50M+  \\\n",
       "0               0.0                     0.0              0.0   \n",
       "1               0.0                     0.0              0.0   \n",
       "2               0.0                     0.0              0.0   \n",
       "3               0.0                     0.0              0.0   \n",
       "4               0.0                     0.0              0.0   \n",
       "\n",
       "   INCOME_AMT_5M-10M  SPECIAL_CONSIDERATIONS_N  SPECIAL_CONSIDERATIONS_Y  \n",
       "0                0.0                       1.0                       0.0  \n",
       "1                0.0                       1.0                       0.0  \n",
       "2                0.0                       1.0                       0.0  \n",
       "3                0.0                       1.0                       0.0  \n",
       "4                0.0                       1.0                       0.0  \n",
       "\n",
       "[5 rows x 41 columns]"
      ]
     },
     "execution_count": 27,
     "metadata": {},
     "output_type": "execute_result"
    }
   ],
   "source": [
    "# Create a OneHotEncoder instance\n",
    "enc = OneHotEncoder(sparse=False)\n",
    "\n",
    "# Fit and transform the OneHotEncoder using the categorical variable list\n",
    "encode_df = pd.DataFrame(enc.fit_transform(application_df[application_cat]))\n",
    "\n",
    "# Add the encoded variable names to the dataframe\n",
    "encode_df.columns = enc.get_feature_names(application_cat)\n",
    "encode_df.head()"
   ]
  },
  {
   "cell_type": "code",
   "execution_count": 28,
   "metadata": {},
   "outputs": [
    {
     "name": "stderr",
     "output_type": "stream",
     "text": [
      "C:\\Users\\ptene\\anaconda3\\envs\\mlenv\\lib\\site-packages\\ipykernel_launcher.py:3: FutureWarning: In a future version of pandas all arguments of DataFrame.drop except for the argument 'labels' will be keyword-only\n",
      "  This is separate from the ipykernel package so we can avoid doing imports until\n"
     ]
    },
    {
     "data": {
      "text/html": [
       "<div>\n",
       "<style scoped>\n",
       "    .dataframe tbody tr th:only-of-type {\n",
       "        vertical-align: middle;\n",
       "    }\n",
       "\n",
       "    .dataframe tbody tr th {\n",
       "        vertical-align: top;\n",
       "    }\n",
       "\n",
       "    .dataframe thead th {\n",
       "        text-align: right;\n",
       "    }\n",
       "</style>\n",
       "<table border=\"1\" class=\"dataframe\">\n",
       "  <thead>\n",
       "    <tr style=\"text-align: right;\">\n",
       "      <th></th>\n",
       "      <th>STATUS</th>\n",
       "      <th>ASK_AMT</th>\n",
       "      <th>IS_SUCCESSFUL</th>\n",
       "      <th>APPLICATION_TYPE_Other</th>\n",
       "      <th>APPLICATION_TYPE_T10</th>\n",
       "      <th>APPLICATION_TYPE_T19</th>\n",
       "      <th>APPLICATION_TYPE_T3</th>\n",
       "      <th>APPLICATION_TYPE_T4</th>\n",
       "      <th>APPLICATION_TYPE_T5</th>\n",
       "      <th>APPLICATION_TYPE_T6</th>\n",
       "      <th>...</th>\n",
       "      <th>INCOME_AMT_1-9999</th>\n",
       "      <th>INCOME_AMT_10000-24999</th>\n",
       "      <th>INCOME_AMT_100000-499999</th>\n",
       "      <th>INCOME_AMT_10M-50M</th>\n",
       "      <th>INCOME_AMT_1M-5M</th>\n",
       "      <th>INCOME_AMT_25000-99999</th>\n",
       "      <th>INCOME_AMT_50M+</th>\n",
       "      <th>INCOME_AMT_5M-10M</th>\n",
       "      <th>SPECIAL_CONSIDERATIONS_N</th>\n",
       "      <th>SPECIAL_CONSIDERATIONS_Y</th>\n",
       "    </tr>\n",
       "  </thead>\n",
       "  <tbody>\n",
       "    <tr>\n",
       "      <th>0</th>\n",
       "      <td>1</td>\n",
       "      <td>5000</td>\n",
       "      <td>1</td>\n",
       "      <td>0.0</td>\n",
       "      <td>1.0</td>\n",
       "      <td>0.0</td>\n",
       "      <td>0.0</td>\n",
       "      <td>0.0</td>\n",
       "      <td>0.0</td>\n",
       "      <td>0.0</td>\n",
       "      <td>...</td>\n",
       "      <td>0.0</td>\n",
       "      <td>0.0</td>\n",
       "      <td>0.0</td>\n",
       "      <td>0.0</td>\n",
       "      <td>0.0</td>\n",
       "      <td>0.0</td>\n",
       "      <td>0.0</td>\n",
       "      <td>0.0</td>\n",
       "      <td>1.0</td>\n",
       "      <td>0.0</td>\n",
       "    </tr>\n",
       "    <tr>\n",
       "      <th>1</th>\n",
       "      <td>1</td>\n",
       "      <td>108590</td>\n",
       "      <td>1</td>\n",
       "      <td>0.0</td>\n",
       "      <td>0.0</td>\n",
       "      <td>0.0</td>\n",
       "      <td>1.0</td>\n",
       "      <td>0.0</td>\n",
       "      <td>0.0</td>\n",
       "      <td>0.0</td>\n",
       "      <td>...</td>\n",
       "      <td>1.0</td>\n",
       "      <td>0.0</td>\n",
       "      <td>0.0</td>\n",
       "      <td>0.0</td>\n",
       "      <td>0.0</td>\n",
       "      <td>0.0</td>\n",
       "      <td>0.0</td>\n",
       "      <td>0.0</td>\n",
       "      <td>1.0</td>\n",
       "      <td>0.0</td>\n",
       "    </tr>\n",
       "    <tr>\n",
       "      <th>2</th>\n",
       "      <td>1</td>\n",
       "      <td>5000</td>\n",
       "      <td>0</td>\n",
       "      <td>0.0</td>\n",
       "      <td>0.0</td>\n",
       "      <td>0.0</td>\n",
       "      <td>0.0</td>\n",
       "      <td>0.0</td>\n",
       "      <td>1.0</td>\n",
       "      <td>0.0</td>\n",
       "      <td>...</td>\n",
       "      <td>0.0</td>\n",
       "      <td>0.0</td>\n",
       "      <td>0.0</td>\n",
       "      <td>0.0</td>\n",
       "      <td>0.0</td>\n",
       "      <td>0.0</td>\n",
       "      <td>0.0</td>\n",
       "      <td>0.0</td>\n",
       "      <td>1.0</td>\n",
       "      <td>0.0</td>\n",
       "    </tr>\n",
       "    <tr>\n",
       "      <th>3</th>\n",
       "      <td>1</td>\n",
       "      <td>6692</td>\n",
       "      <td>1</td>\n",
       "      <td>0.0</td>\n",
       "      <td>0.0</td>\n",
       "      <td>0.0</td>\n",
       "      <td>1.0</td>\n",
       "      <td>0.0</td>\n",
       "      <td>0.0</td>\n",
       "      <td>0.0</td>\n",
       "      <td>...</td>\n",
       "      <td>0.0</td>\n",
       "      <td>1.0</td>\n",
       "      <td>0.0</td>\n",
       "      <td>0.0</td>\n",
       "      <td>0.0</td>\n",
       "      <td>0.0</td>\n",
       "      <td>0.0</td>\n",
       "      <td>0.0</td>\n",
       "      <td>1.0</td>\n",
       "      <td>0.0</td>\n",
       "    </tr>\n",
       "    <tr>\n",
       "      <th>4</th>\n",
       "      <td>1</td>\n",
       "      <td>142590</td>\n",
       "      <td>1</td>\n",
       "      <td>0.0</td>\n",
       "      <td>0.0</td>\n",
       "      <td>0.0</td>\n",
       "      <td>1.0</td>\n",
       "      <td>0.0</td>\n",
       "      <td>0.0</td>\n",
       "      <td>0.0</td>\n",
       "      <td>...</td>\n",
       "      <td>0.0</td>\n",
       "      <td>0.0</td>\n",
       "      <td>1.0</td>\n",
       "      <td>0.0</td>\n",
       "      <td>0.0</td>\n",
       "      <td>0.0</td>\n",
       "      <td>0.0</td>\n",
       "      <td>0.0</td>\n",
       "      <td>1.0</td>\n",
       "      <td>0.0</td>\n",
       "    </tr>\n",
       "  </tbody>\n",
       "</table>\n",
       "<p>5 rows × 44 columns</p>\n",
       "</div>"
      ],
      "text/plain": [
       "   STATUS  ASK_AMT  IS_SUCCESSFUL  APPLICATION_TYPE_Other  \\\n",
       "0       1     5000              1                     0.0   \n",
       "1       1   108590              1                     0.0   \n",
       "2       1     5000              0                     0.0   \n",
       "3       1     6692              1                     0.0   \n",
       "4       1   142590              1                     0.0   \n",
       "\n",
       "   APPLICATION_TYPE_T10  APPLICATION_TYPE_T19  APPLICATION_TYPE_T3  \\\n",
       "0                   1.0                   0.0                  0.0   \n",
       "1                   0.0                   0.0                  1.0   \n",
       "2                   0.0                   0.0                  0.0   \n",
       "3                   0.0                   0.0                  1.0   \n",
       "4                   0.0                   0.0                  1.0   \n",
       "\n",
       "   APPLICATION_TYPE_T4  APPLICATION_TYPE_T5  APPLICATION_TYPE_T6  ...  \\\n",
       "0                  0.0                  0.0                  0.0  ...   \n",
       "1                  0.0                  0.0                  0.0  ...   \n",
       "2                  0.0                  1.0                  0.0  ...   \n",
       "3                  0.0                  0.0                  0.0  ...   \n",
       "4                  0.0                  0.0                  0.0  ...   \n",
       "\n",
       "   INCOME_AMT_1-9999  INCOME_AMT_10000-24999  INCOME_AMT_100000-499999  \\\n",
       "0                0.0                     0.0                       0.0   \n",
       "1                1.0                     0.0                       0.0   \n",
       "2                0.0                     0.0                       0.0   \n",
       "3                0.0                     1.0                       0.0   \n",
       "4                0.0                     0.0                       1.0   \n",
       "\n",
       "   INCOME_AMT_10M-50M  INCOME_AMT_1M-5M  INCOME_AMT_25000-99999  \\\n",
       "0                 0.0               0.0                     0.0   \n",
       "1                 0.0               0.0                     0.0   \n",
       "2                 0.0               0.0                     0.0   \n",
       "3                 0.0               0.0                     0.0   \n",
       "4                 0.0               0.0                     0.0   \n",
       "\n",
       "   INCOME_AMT_50M+  INCOME_AMT_5M-10M  SPECIAL_CONSIDERATIONS_N  \\\n",
       "0              0.0                0.0                       1.0   \n",
       "1              0.0                0.0                       1.0   \n",
       "2              0.0                0.0                       1.0   \n",
       "3              0.0                0.0                       1.0   \n",
       "4              0.0                0.0                       1.0   \n",
       "\n",
       "   SPECIAL_CONSIDERATIONS_Y  \n",
       "0                       0.0  \n",
       "1                       0.0  \n",
       "2                       0.0  \n",
       "3                       0.0  \n",
       "4                       0.0  \n",
       "\n",
       "[5 rows x 44 columns]"
      ]
     },
     "execution_count": 28,
     "metadata": {},
     "output_type": "execute_result"
    }
   ],
   "source": [
    "# Merge one-hot encoded features and drop the originals\n",
    "application_df = application_df.merge(encode_df,left_index=True, right_index=True)\n",
    "application_df = application_df.drop(application_cat,1)\n",
    "application_df.head()"
   ]
  },
  {
   "cell_type": "code",
   "execution_count": 29,
   "metadata": {},
   "outputs": [
    {
     "data": {
      "text/plain": [
       "(34299, 44)"
      ]
     },
     "execution_count": 29,
     "metadata": {},
     "output_type": "execute_result"
    }
   ],
   "source": [
    "application_df.shape"
   ]
  },
  {
   "cell_type": "code",
   "execution_count": 30,
   "metadata": {},
   "outputs": [
    {
     "name": "stdout",
     "output_type": "stream",
     "text": [
      "<class 'pandas.core.frame.DataFrame'>\n",
      "RangeIndex: 34299 entries, 0 to 34298\n",
      "Data columns (total 44 columns):\n",
      " #   Column                        Non-Null Count  Dtype  \n",
      "---  ------                        --------------  -----  \n",
      " 0   STATUS                        34299 non-null  int64  \n",
      " 1   ASK_AMT                       34299 non-null  int64  \n",
      " 2   IS_SUCCESSFUL                 34299 non-null  int64  \n",
      " 3   APPLICATION_TYPE_Other        34299 non-null  float64\n",
      " 4   APPLICATION_TYPE_T10          34299 non-null  float64\n",
      " 5   APPLICATION_TYPE_T19          34299 non-null  float64\n",
      " 6   APPLICATION_TYPE_T3           34299 non-null  float64\n",
      " 7   APPLICATION_TYPE_T4           34299 non-null  float64\n",
      " 8   APPLICATION_TYPE_T5           34299 non-null  float64\n",
      " 9   APPLICATION_TYPE_T6           34299 non-null  float64\n",
      " 10  APPLICATION_TYPE_T7           34299 non-null  float64\n",
      " 11  APPLICATION_TYPE_T8           34299 non-null  float64\n",
      " 12  AFFILIATION_CompanySponsored  34299 non-null  float64\n",
      " 13  AFFILIATION_Family/Parent     34299 non-null  float64\n",
      " 14  AFFILIATION_Independent       34299 non-null  float64\n",
      " 15  AFFILIATION_National          34299 non-null  float64\n",
      " 16  AFFILIATION_Other             34299 non-null  float64\n",
      " 17  AFFILIATION_Regional          34299 non-null  float64\n",
      " 18  CLASSIFICATION_C1000          34299 non-null  float64\n",
      " 19  CLASSIFICATION_C1200          34299 non-null  float64\n",
      " 20  CLASSIFICATION_C2000          34299 non-null  float64\n",
      " 21  CLASSIFICATION_C2100          34299 non-null  float64\n",
      " 22  CLASSIFICATION_C3000          34299 non-null  float64\n",
      " 23  CLASSIFICATION_Other          34299 non-null  float64\n",
      " 24  USE_CASE_CommunityServ        34299 non-null  float64\n",
      " 25  USE_CASE_Heathcare            34299 non-null  float64\n",
      " 26  USE_CASE_Other                34299 non-null  float64\n",
      " 27  USE_CASE_Preservation         34299 non-null  float64\n",
      " 28  USE_CASE_ProductDev           34299 non-null  float64\n",
      " 29  ORGANIZATION_Association      34299 non-null  float64\n",
      " 30  ORGANIZATION_Co-operative     34299 non-null  float64\n",
      " 31  ORGANIZATION_Corporation      34299 non-null  float64\n",
      " 32  ORGANIZATION_Trust            34299 non-null  float64\n",
      " 33  INCOME_AMT_0                  34299 non-null  float64\n",
      " 34  INCOME_AMT_1-9999             34299 non-null  float64\n",
      " 35  INCOME_AMT_10000-24999        34299 non-null  float64\n",
      " 36  INCOME_AMT_100000-499999      34299 non-null  float64\n",
      " 37  INCOME_AMT_10M-50M            34299 non-null  float64\n",
      " 38  INCOME_AMT_1M-5M              34299 non-null  float64\n",
      " 39  INCOME_AMT_25000-99999        34299 non-null  float64\n",
      " 40  INCOME_AMT_50M+               34299 non-null  float64\n",
      " 41  INCOME_AMT_5M-10M             34299 non-null  float64\n",
      " 42  SPECIAL_CONSIDERATIONS_N      34299 non-null  float64\n",
      " 43  SPECIAL_CONSIDERATIONS_Y      34299 non-null  float64\n",
      "dtypes: float64(41), int64(3)\n",
      "memory usage: 11.5 MB\n"
     ]
    }
   ],
   "source": [
    "# checking that all is numeric\n",
    "application_df.info()"
   ]
  },
  {
   "cell_type": "code",
   "execution_count": 31,
   "metadata": {},
   "outputs": [
    {
     "name": "stderr",
     "output_type": "stream",
     "text": [
      "C:\\Users\\ptene\\anaconda3\\envs\\mlenv\\lib\\site-packages\\ipykernel_launcher.py:2: FutureWarning: In a future version of pandas all arguments of DataFrame.drop except for the argument 'labels' will be keyword-only\n",
      "  \n"
     ]
    }
   ],
   "source": [
    "# Split our preprocessed data into our features and target arrays\n",
    "X = application_df.drop([\"IS_SUCCESSFUL\"], 1).values\n",
    "X\n",
    "\n",
    "y = application_df[\"IS_SUCCESSFUL\"].values\n",
    "\n",
    "# Split the preprocessed data into a training and testing dataset\n",
    "X_train, X_test, y_train, y_tests = train_test_split(X, y, random_state=78)"
   ]
  },
  {
   "cell_type": "code",
   "execution_count": 32,
   "metadata": {},
   "outputs": [],
   "source": [
    "# Create a StandardScaler instances\n",
    "scaler = StandardScaler()\n",
    "\n",
    "# Fit the StandardScaler\n",
    "X_scaler = scaler.fit(X_train)\n",
    "\n",
    "# Scale the data\n",
    "X_train_scaled = X_scaler.transform(X_train)\n",
    "X_test_scaled = X_scaler.transform(X_test)"
   ]
  },
  {
   "cell_type": "markdown",
   "metadata": {},
   "source": [
    "### Deliverable 2: Compile, Train and Evaluate the Model"
   ]
  },
  {
   "cell_type": "code",
   "execution_count": 35,
   "metadata": {},
   "outputs": [
    {
     "data": {
      "text/plain": [
       "43"
      ]
     },
     "execution_count": 35,
     "metadata": {},
     "output_type": "execute_result"
    }
   ],
   "source": [
    "# testing \n",
    "len(X_train[0])"
   ]
  },
  {
   "cell_type": "markdown",
   "metadata": {
    "jp-MarkdownHeadingCollapsed": true,
    "tags": []
   },
   "source": [
    "# Compile the model"
   ]
  },
  {
   "cell_type": "code",
   "execution_count": 36,
   "metadata": {},
   "outputs": [
    {
     "name": "stdout",
     "output_type": "stream",
     "text": [
      "Model: \"sequential_2\"\n",
      "_________________________________________________________________\n",
      " Layer (type)                Output Shape              Param #   \n",
      "=================================================================\n",
      " dense (Dense)               (None, 80)                3520      \n",
      "                                                                 \n",
      " dense_1 (Dense)             (None, 50)                4050      \n",
      "                                                                 \n",
      " dense_2 (Dense)             (None, 1)                 51        \n",
      "                                                                 \n",
      "=================================================================\n",
      "Total params: 7,621\n",
      "Trainable params: 7,621\n",
      "Non-trainable params: 0\n",
      "_________________________________________________________________\n"
     ]
    }
   ],
   "source": [
    "# Define the model - deep neural net, i.e., the number of input features and hidden nodes for each layer.\n",
    "number_input_features = len(X_train[0])\n",
    "hidden_nodes_layer1 = 80\n",
    "hidden_nodes_layer2 = 50\n",
    "\n",
    "nn = tf.keras.models.Sequential()\n",
    "\n",
    "# First hidden layer\n",
    "nn.add(\n",
    "    tf.keras.layers.Dense(units=hidden_nodes_layer1, input_dim=number_input_features, activation=\"relu\")\n",
    ")\n",
    "\n",
    "# Second hidden layer\n",
    "nn.add(tf.keras.layers.Dense(units=hidden_nodes_layer2, activation=\"relu\"))\n",
    "\n",
    "# Output layer\n",
    "nn.add(tf.keras.layers.Dense(units=1, activation=\"sigmoid\"))\n",
    "\n",
    "# Check the structure of the model\n",
    "nn.summary()"
   ]
  },
  {
   "cell_type": "markdown",
   "metadata": {},
   "source": [
    "#### Implement Checkpoints\n",
    "\n",
    "Note: Create a callback that saves the model's weights every 5 epochs"
   ]
  },
  {
   "cell_type": "code",
   "execution_count": 40,
   "metadata": {},
   "outputs": [],
   "source": [
    "# Import checkpoint dependencies\n",
    "import os\n",
    "from tensorflow.keras.callbacks import ModelCheckpoint\n",
    "\n",
    "# Define the checkpoint path and filenames\n",
    "os.makedirs(\"checkpoints/\",exist_ok=True)\n",
    "checkpoint_path = \"checkpoints/weights.{epoch:02d}.hdf5\""
   ]
  },
  {
   "cell_type": "markdown",
   "metadata": {},
   "source": [
    "#### Compile the Model"
   ]
  },
  {
   "cell_type": "code",
   "execution_count": 41,
   "metadata": {},
   "outputs": [],
   "source": [
    "# Compile the model\n",
    "nn.compile(loss=\"binary_crossentropy\", optimizer=\"adam\", metrics=[\"accuracy\"])"
   ]
  },
  {
   "cell_type": "code",
   "execution_count": 42,
   "metadata": {},
   "outputs": [],
   "source": [
    "# Create a callback that saves the model's weights every epoch (set = 5) \n",
    "\n",
    "cp_callback = ModelCheckpoint(\n",
    "    filepath=checkpoint_path,\n",
    "    verbose=1,\n",
    "    save_weights_only=True,\n",
    "    save_freq= 5)"
   ]
  },
  {
   "cell_type": "markdown",
   "metadata": {
    "tags": []
   },
   "source": [
    "### Train the model"
   ]
  },
  {
   "cell_type": "markdown",
   "metadata": {
    "jp-MarkdownHeadingCollapsed": true,
    "tags": []
   },
   "source": [
    "# Implement Checkpoint\n",
    "\n",
    "note: Create a callbackthat saves the model's weights every 5 epochs."
   ]
  },
  {
   "cell_type": "code",
   "execution_count": 43,
   "metadata": {},
   "outputs": [
    {
     "name": "stdout",
     "output_type": "stream",
     "text": [
      "Epoch 1/100\n",
      "765/804 [===========================>..] - ETA: 0s - loss: 0.5697 - accuracy: 0.7228\n",
      "Epoch 1: saving model to checkpoints\\weights.01.hdf5\n",
      "804/804 [==============================] - 1s 968us/step - loss: 0.5690 - accuracy: 0.7234\n",
      "Epoch 2/100\n",
      "791/804 [============================>.] - ETA: 0s - loss: 0.5551 - accuracy: 0.7304\n",
      "Epoch 2: saving model to checkpoints\\weights.02.hdf5\n",
      "804/804 [==============================] - 1s 1ms/step - loss: 0.5556 - accuracy: 0.7303\n",
      "Epoch 3/100\n",
      "783/804 [============================>.] - ETA: 0s - loss: 0.5523 - accuracy: 0.7331\n",
      "Epoch 3: saving model to checkpoints\\weights.03.hdf5\n",
      "804/804 [==============================] - 1s 1ms/step - loss: 0.5533 - accuracy: 0.7324\n",
      "Epoch 4/100\n",
      "773/804 [===========================>..] - ETA: 0s - loss: 0.5520 - accuracy: 0.7318\n",
      "Epoch 4: saving model to checkpoints\\weights.04.hdf5\n",
      "804/804 [==============================] - 1s 1ms/step - loss: 0.5516 - accuracy: 0.7322\n",
      "Epoch 5/100\n",
      "778/804 [============================>.] - ETA: 0s - loss: 0.5504 - accuracy: 0.7328\n",
      "Epoch 5: saving model to checkpoints\\weights.05.hdf5\n",
      "804/804 [==============================] - 1s 2ms/step - loss: 0.5496 - accuracy: 0.7336\n",
      "Epoch 6/100\n",
      "796/804 [============================>.] - ETA: 0s - loss: 0.5490 - accuracy: 0.7341\n",
      "Epoch 6: saving model to checkpoints\\weights.06.hdf5\n",
      "804/804 [==============================] - 1s 1ms/step - loss: 0.5491 - accuracy: 0.7338\n",
      "Epoch 7/100\n",
      "759/804 [===========================>..] - ETA: 0s - loss: 0.5486 - accuracy: 0.7345\n",
      "Epoch 7: saving model to checkpoints\\weights.07.hdf5\n",
      "804/804 [==============================] - 2s 2ms/step - loss: 0.5482 - accuracy: 0.7342\n",
      "Epoch 8/100\n",
      "787/804 [============================>.] - ETA: 0s - loss: 0.5484 - accuracy: 0.7324\n",
      "Epoch 8: saving model to checkpoints\\weights.08.hdf5\n",
      "804/804 [==============================] - 1s 2ms/step - loss: 0.5478 - accuracy: 0.7332\n",
      "Epoch 9/100\n",
      "778/804 [============================>.] - ETA: 0s - loss: 0.5466 - accuracy: 0.7354\n",
      "Epoch 9: saving model to checkpoints\\weights.09.hdf5\n",
      "804/804 [==============================] - 1s 1ms/step - loss: 0.5470 - accuracy: 0.7348\n",
      "Epoch 10/100\n",
      "770/804 [===========================>..] - ETA: 0s - loss: 0.5473 - accuracy: 0.7339\n",
      "Epoch 10: saving model to checkpoints\\weights.10.hdf5\n",
      "804/804 [==============================] - 1s 1ms/step - loss: 0.5467 - accuracy: 0.7346\n",
      "Epoch 11/100\n",
      "794/804 [============================>.] - ETA: 0s - loss: 0.5465 - accuracy: 0.7359\n",
      "Epoch 11: saving model to checkpoints\\weights.11.hdf5\n",
      "804/804 [==============================] - 1s 1ms/step - loss: 0.5463 - accuracy: 0.7360\n",
      "Epoch 12/100\n",
      "795/804 [============================>.] - ETA: 0s - loss: 0.5454 - accuracy: 0.7356\n",
      "Epoch 12: saving model to checkpoints\\weights.12.hdf5\n",
      "804/804 [==============================] - 1s 2ms/step - loss: 0.5456 - accuracy: 0.7352\n",
      "Epoch 13/100\n",
      "787/804 [============================>.] - ETA: 0s - loss: 0.5457 - accuracy: 0.7344\n",
      "Epoch 13: saving model to checkpoints\\weights.13.hdf5\n",
      "804/804 [==============================] - 2s 2ms/step - loss: 0.5452 - accuracy: 0.7350\n",
      "Epoch 14/100\n",
      "797/804 [============================>.] - ETA: 0s - loss: 0.5458 - accuracy: 0.7351\n",
      "Epoch 14: saving model to checkpoints\\weights.14.hdf5\n",
      "804/804 [==============================] - 2s 2ms/step - loss: 0.5458 - accuracy: 0.7351\n",
      "Epoch 15/100\n",
      "802/804 [============================>.] - ETA: 0s - loss: 0.5446 - accuracy: 0.7359\n",
      "Epoch 15: saving model to checkpoints\\weights.15.hdf5\n",
      "804/804 [==============================] - 1s 2ms/step - loss: 0.5446 - accuracy: 0.7359\n",
      "Epoch 16/100\n",
      "787/804 [============================>.] - ETA: 0s - loss: 0.5452 - accuracy: 0.7369\n",
      "Epoch 16: saving model to checkpoints\\weights.16.hdf5\n",
      "804/804 [==============================] - 2s 2ms/step - loss: 0.5449 - accuracy: 0.7371\n",
      "Epoch 17/100\n",
      "792/804 [============================>.] - ETA: 0s - loss: 0.5448 - accuracy: 0.7372\n",
      "Epoch 17: saving model to checkpoints\\weights.17.hdf5\n",
      "804/804 [==============================] - 1s 1ms/step - loss: 0.5443 - accuracy: 0.7374\n",
      "Epoch 18/100\n",
      "798/804 [============================>.] - ETA: 0s - loss: 0.5440 - accuracy: 0.7366\n",
      "Epoch 18: saving model to checkpoints\\weights.18.hdf5\n",
      "804/804 [==============================] - 1s 1ms/step - loss: 0.5441 - accuracy: 0.7365\n",
      "Epoch 19/100\n",
      "779/804 [============================>.] - ETA: 0s - loss: 0.5439 - accuracy: 0.7372\n",
      "Epoch 19: saving model to checkpoints\\weights.19.hdf5\n",
      "804/804 [==============================] - 1s 1ms/step - loss: 0.5433 - accuracy: 0.7377\n",
      "Epoch 20/100\n",
      "796/804 [============================>.] - ETA: 0s - loss: 0.5430 - accuracy: 0.7377\n",
      "Epoch 20: saving model to checkpoints\\weights.20.hdf5\n",
      "804/804 [==============================] - 1s 1ms/step - loss: 0.5432 - accuracy: 0.7374\n",
      "Epoch 21/100\n",
      "791/804 [============================>.] - ETA: 0s - loss: 0.5422 - accuracy: 0.7381\n",
      "Epoch 21: saving model to checkpoints\\weights.21.hdf5\n",
      "804/804 [==============================] - 2s 2ms/step - loss: 0.5426 - accuracy: 0.7379\n",
      "Epoch 22/100\n",
      "788/804 [============================>.] - ETA: 0s - loss: 0.5418 - accuracy: 0.7377\n",
      "Epoch 22: saving model to checkpoints\\weights.22.hdf5\n",
      "804/804 [==============================] - 1s 2ms/step - loss: 0.5423 - accuracy: 0.7370\n",
      "Epoch 23/100\n",
      "798/804 [============================>.] - ETA: 0s - loss: 0.5420 - accuracy: 0.7377\n",
      "Epoch 23: saving model to checkpoints\\weights.23.hdf5\n",
      "804/804 [==============================] - 1s 2ms/step - loss: 0.5423 - accuracy: 0.7374\n",
      "Epoch 24/100\n",
      "772/804 [===========================>..] - ETA: 0s - loss: 0.5409 - accuracy: 0.7393\n",
      "Epoch 24: saving model to checkpoints\\weights.24.hdf5\n",
      "804/804 [==============================] - 1s 2ms/step - loss: 0.5423 - accuracy: 0.7383\n",
      "Epoch 25/100\n",
      "775/804 [===========================>..] - ETA: 0s - loss: 0.5418 - accuracy: 0.7378\n",
      "Epoch 25: saving model to checkpoints\\weights.25.hdf5\n",
      "804/804 [==============================] - 1s 2ms/step - loss: 0.5421 - accuracy: 0.7374\n",
      "Epoch 26/100\n",
      "797/804 [============================>.] - ETA: 0s - loss: 0.5417 - accuracy: 0.7385\n",
      "Epoch 26: saving model to checkpoints\\weights.26.hdf5\n",
      "804/804 [==============================] - 1s 2ms/step - loss: 0.5418 - accuracy: 0.7385\n",
      "Epoch 27/100\n",
      "798/804 [============================>.] - ETA: 0s - loss: 0.5412 - accuracy: 0.7386\n",
      "Epoch 27: saving model to checkpoints\\weights.27.hdf5\n",
      "804/804 [==============================] - 1s 2ms/step - loss: 0.5414 - accuracy: 0.7385\n",
      "Epoch 28/100\n",
      "804/804 [==============================] - ETA: 0s - loss: 0.5417 - accuracy: 0.7385\n",
      "Epoch 28: saving model to checkpoints\\weights.28.hdf5\n",
      "804/804 [==============================] - 1s 2ms/step - loss: 0.5417 - accuracy: 0.7385\n",
      "Epoch 29/100\n",
      "798/804 [============================>.] - ETA: 0s - loss: 0.5405 - accuracy: 0.7383\n",
      "Epoch 29: saving model to checkpoints\\weights.29.hdf5\n",
      "804/804 [==============================] - 1s 1ms/step - loss: 0.5412 - accuracy: 0.7379\n",
      "Epoch 30/100\n",
      "776/804 [===========================>..] - ETA: 0s - loss: 0.5418 - accuracy: 0.7385\n",
      "Epoch 30: saving model to checkpoints\\weights.30.hdf5\n",
      "804/804 [==============================] - 1s 2ms/step - loss: 0.5408 - accuracy: 0.7393\n",
      "Epoch 31/100\n",
      "789/804 [============================>.] - ETA: 0s - loss: 0.5405 - accuracy: 0.7390\n",
      "Epoch 31: saving model to checkpoints\\weights.31.hdf5\n",
      "804/804 [==============================] - 2s 2ms/step - loss: 0.5412 - accuracy: 0.7385\n",
      "Epoch 32/100\n",
      "801/804 [============================>.] - ETA: 0s - loss: 0.5411 - accuracy: 0.7384\n",
      "Epoch 32: saving model to checkpoints\\weights.32.hdf5\n",
      "804/804 [==============================] - 2s 2ms/step - loss: 0.5408 - accuracy: 0.7386\n",
      "Epoch 33/100\n",
      "804/804 [==============================] - ETA: 0s - loss: 0.5408 - accuracy: 0.7391\n",
      "Epoch 33: saving model to checkpoints\\weights.33.hdf5\n",
      "804/804 [==============================] - 3s 4ms/step - loss: 0.5408 - accuracy: 0.7391\n",
      "Epoch 34/100\n",
      "776/804 [===========================>..] - ETA: 0s - loss: 0.5400 - accuracy: 0.7394\n",
      "Epoch 34: saving model to checkpoints\\weights.34.hdf5\n",
      "804/804 [==============================] - 1s 2ms/step - loss: 0.5405 - accuracy: 0.7389\n",
      "Epoch 35/100\n",
      "800/804 [============================>.] - ETA: 0s - loss: 0.5406 - accuracy: 0.7387\n",
      "Epoch 35: saving model to checkpoints\\weights.35.hdf5\n",
      "804/804 [==============================] - 1s 2ms/step - loss: 0.5405 - accuracy: 0.7386\n",
      "Epoch 36/100\n",
      "780/804 [============================>.] - ETA: 0s - loss: 0.5396 - accuracy: 0.7400\n",
      "Epoch 36: saving model to checkpoints\\weights.36.hdf5\n",
      "804/804 [==============================] - 2s 2ms/step - loss: 0.5403 - accuracy: 0.7393\n",
      "Epoch 37/100\n",
      "788/804 [============================>.] - ETA: 0s - loss: 0.5404 - accuracy: 0.7387\n",
      "Epoch 37: saving model to checkpoints\\weights.37.hdf5\n",
      "804/804 [==============================] - 2s 2ms/step - loss: 0.5400 - accuracy: 0.7391\n",
      "Epoch 38/100\n",
      "802/804 [============================>.] - ETA: 0s - loss: 0.5400 - accuracy: 0.7394\n",
      "Epoch 38: saving model to checkpoints\\weights.38.hdf5\n",
      "804/804 [==============================] - 2s 2ms/step - loss: 0.5399 - accuracy: 0.7394\n",
      "Epoch 39/100\n",
      "783/804 [============================>.] - ETA: 0s - loss: 0.5410 - accuracy: 0.7386\n",
      "Epoch 39: saving model to checkpoints\\weights.39.hdf5\n",
      "804/804 [==============================] - 1s 2ms/step - loss: 0.5400 - accuracy: 0.7393\n",
      "Epoch 40/100\n",
      "773/804 [===========================>..] - ETA: 0s - loss: 0.5391 - accuracy: 0.7387\n",
      "Epoch 40: saving model to checkpoints\\weights.40.hdf5\n",
      "804/804 [==============================] - 1s 2ms/step - loss: 0.5396 - accuracy: 0.7386\n",
      "Epoch 41/100\n",
      "776/804 [===========================>..] - ETA: 0s - loss: 0.5390 - accuracy: 0.7399\n",
      "Epoch 41: saving model to checkpoints\\weights.41.hdf5\n",
      "804/804 [==============================] - 1s 2ms/step - loss: 0.5394 - accuracy: 0.7397\n",
      "Epoch 42/100\n",
      "793/804 [============================>.] - ETA: 0s - loss: 0.5393 - accuracy: 0.7397\n",
      "Epoch 42: saving model to checkpoints\\weights.42.hdf5\n",
      "804/804 [==============================] - 2s 2ms/step - loss: 0.5397 - accuracy: 0.7396\n",
      "Epoch 43/100\n",
      "789/804 [============================>.] - ETA: 0s - loss: 0.5394 - accuracy: 0.7385\n",
      "Epoch 43: saving model to checkpoints\\weights.43.hdf5\n",
      "804/804 [==============================] - 2s 3ms/step - loss: 0.5396 - accuracy: 0.7386\n",
      "Epoch 44/100\n",
      "801/804 [============================>.] - ETA: 0s - loss: 0.5392 - accuracy: 0.7398\n",
      "Epoch 44: saving model to checkpoints\\weights.44.hdf5\n",
      "804/804 [==============================] - 2s 2ms/step - loss: 0.5393 - accuracy: 0.7396\n",
      "Epoch 45/100\n",
      "801/804 [============================>.] - ETA: 0s - loss: 0.5389 - accuracy: 0.7392\n",
      "Epoch 45: saving model to checkpoints\\weights.45.hdf5\n",
      "804/804 [==============================] - 1s 2ms/step - loss: 0.5390 - accuracy: 0.7390\n",
      "Epoch 46/100\n",
      "775/804 [===========================>..] - ETA: 0s - loss: 0.5391 - accuracy: 0.7395\n",
      "Epoch 46: saving model to checkpoints\\weights.46.hdf5\n",
      "804/804 [==============================] - 1s 2ms/step - loss: 0.5386 - accuracy: 0.7400\n",
      "Epoch 47/100\n",
      "773/804 [===========================>..] - ETA: 0s - loss: 0.5386 - accuracy: 0.7400\n",
      "Epoch 47: saving model to checkpoints\\weights.47.hdf5\n",
      "804/804 [==============================] - 1s 2ms/step - loss: 0.5391 - accuracy: 0.7396\n",
      "Epoch 48/100\n",
      "801/804 [============================>.] - ETA: 0s - loss: 0.5390 - accuracy: 0.7404\n",
      "Epoch 48: saving model to checkpoints\\weights.48.hdf5\n",
      "804/804 [==============================] - 2s 2ms/step - loss: 0.5390 - accuracy: 0.7403\n",
      "Epoch 49/100\n",
      "780/804 [============================>.] - ETA: 0s - loss: 0.5383 - accuracy: 0.7394\n",
      "Epoch 49: saving model to checkpoints\\weights.49.hdf5\n",
      "804/804 [==============================] - 2s 2ms/step - loss: 0.5381 - accuracy: 0.7402\n",
      "Epoch 50/100\n",
      "800/804 [============================>.] - ETA: 0s - loss: 0.5387 - accuracy: 0.7398\n",
      "Epoch 50: saving model to checkpoints\\weights.50.hdf5\n",
      "804/804 [==============================] - 1s 1ms/step - loss: 0.5385 - accuracy: 0.7400\n",
      "Epoch 51/100\n",
      "794/804 [============================>.] - ETA: 0s - loss: 0.5378 - accuracy: 0.7402\n",
      "Epoch 51: saving model to checkpoints\\weights.51.hdf5\n",
      "804/804 [==============================] - 1s 2ms/step - loss: 0.5382 - accuracy: 0.7399\n",
      "Epoch 52/100\n",
      "801/804 [============================>.] - ETA: 0s - loss: 0.5387 - accuracy: 0.7398\n",
      "Epoch 52: saving model to checkpoints\\weights.52.hdf5\n",
      "804/804 [==============================] - 1s 1ms/step - loss: 0.5384 - accuracy: 0.7401\n",
      "Epoch 53/100\n",
      "798/804 [============================>.] - ETA: 0s - loss: 0.5386 - accuracy: 0.7395\n",
      "Epoch 53: saving model to checkpoints\\weights.53.hdf5\n",
      "804/804 [==============================] - 2s 2ms/step - loss: 0.5384 - accuracy: 0.7395\n",
      "Epoch 54/100\n",
      "785/804 [============================>.] - ETA: 0s - loss: 0.5378 - accuracy: 0.7412\n",
      "Epoch 54: saving model to checkpoints\\weights.54.hdf5\n",
      "804/804 [==============================] - 2s 2ms/step - loss: 0.5380 - accuracy: 0.7407\n",
      "Epoch 55/100\n",
      "791/804 [============================>.] - ETA: 0s - loss: 0.5374 - accuracy: 0.7408\n",
      "Epoch 55: saving model to checkpoints\\weights.55.hdf5\n",
      "804/804 [==============================] - 1s 2ms/step - loss: 0.5382 - accuracy: 0.7406\n",
      "Epoch 56/100\n",
      "786/804 [============================>.] - ETA: 0s - loss: 0.5368 - accuracy: 0.7402\n",
      "Epoch 56: saving model to checkpoints\\weights.56.hdf5\n",
      "804/804 [==============================] - 2s 2ms/step - loss: 0.5375 - accuracy: 0.7399\n",
      "Epoch 57/100\n",
      "802/804 [============================>.] - ETA: 0s - loss: 0.5380 - accuracy: 0.7403\n",
      "Epoch 57: saving model to checkpoints\\weights.57.hdf5\n",
      "804/804 [==============================] - 2s 2ms/step - loss: 0.5379 - accuracy: 0.7405\n",
      "Epoch 58/100\n",
      "799/804 [============================>.] - ETA: 0s - loss: 0.5376 - accuracy: 0.7401\n",
      "Epoch 58: saving model to checkpoints\\weights.58.hdf5\n",
      "804/804 [==============================] - 1s 2ms/step - loss: 0.5375 - accuracy: 0.7404\n",
      "Epoch 59/100\n",
      "796/804 [============================>.] - ETA: 0s - loss: 0.5376 - accuracy: 0.7410\n",
      "Epoch 59: saving model to checkpoints\\weights.59.hdf5\n",
      "804/804 [==============================] - 2s 2ms/step - loss: 0.5376 - accuracy: 0.7408\n",
      "Epoch 60/100\n",
      "794/804 [============================>.] - ETA: 0s - loss: 0.5377 - accuracy: 0.7406\n",
      "Epoch 60: saving model to checkpoints\\weights.60.hdf5\n",
      "804/804 [==============================] - 1s 2ms/step - loss: 0.5380 - accuracy: 0.7403\n",
      "Epoch 61/100\n",
      "802/804 [============================>.] - ETA: 0s - loss: 0.5375 - accuracy: 0.7401\n",
      "Epoch 61: saving model to checkpoints\\weights.61.hdf5\n",
      "804/804 [==============================] - 1s 2ms/step - loss: 0.5373 - accuracy: 0.7403\n",
      "Epoch 62/100\n",
      "787/804 [============================>.] - ETA: 0s - loss: 0.5364 - accuracy: 0.7415\n",
      "Epoch 62: saving model to checkpoints\\weights.62.hdf5\n",
      "804/804 [==============================] - 1s 2ms/step - loss: 0.5371 - accuracy: 0.7409\n",
      "Epoch 63/100\n",
      "778/804 [============================>.] - ETA: 0s - loss: 0.5371 - accuracy: 0.7408\n",
      "Epoch 63: saving model to checkpoints\\weights.63.hdf5\n",
      "804/804 [==============================] - 1s 2ms/step - loss: 0.5377 - accuracy: 0.7407\n",
      "Epoch 64/100\n",
      "798/804 [============================>.] - ETA: 0s - loss: 0.5371 - accuracy: 0.7405\n",
      "Epoch 64: saving model to checkpoints\\weights.64.hdf5\n",
      "804/804 [==============================] - 1s 2ms/step - loss: 0.5371 - accuracy: 0.7406\n",
      "Epoch 65/100\n",
      "796/804 [============================>.] - ETA: 0s - loss: 0.5373 - accuracy: 0.7398\n",
      "Epoch 65: saving model to checkpoints\\weights.65.hdf5\n",
      "804/804 [==============================] - 1s 2ms/step - loss: 0.5369 - accuracy: 0.7402\n",
      "Epoch 66/100\n",
      "777/804 [===========================>..] - ETA: 0s - loss: 0.5365 - accuracy: 0.7410\n",
      "Epoch 66: saving model to checkpoints\\weights.66.hdf5\n",
      "804/804 [==============================] - 1s 2ms/step - loss: 0.5371 - accuracy: 0.7407\n",
      "Epoch 67/100\n",
      "803/804 [============================>.] - ETA: 0s - loss: 0.5368 - accuracy: 0.7410\n",
      "Epoch 67: saving model to checkpoints\\weights.67.hdf5\n",
      "804/804 [==============================] - 1s 2ms/step - loss: 0.5369 - accuracy: 0.7409\n",
      "Epoch 68/100\n",
      "776/804 [===========================>..] - ETA: 0s - loss: 0.5366 - accuracy: 0.7409\n",
      "Epoch 68: saving model to checkpoints\\weights.68.hdf5\n",
      "804/804 [==============================] - 1s 2ms/step - loss: 0.5371 - accuracy: 0.7407\n",
      "Epoch 69/100\n",
      "780/804 [============================>.] - ETA: 0s - loss: 0.5374 - accuracy: 0.7399\n",
      "Epoch 69: saving model to checkpoints\\weights.69.hdf5\n",
      "804/804 [==============================] - 1s 2ms/step - loss: 0.5368 - accuracy: 0.7406\n",
      "Epoch 70/100\n",
      "786/804 [============================>.] - ETA: 0s - loss: 0.5373 - accuracy: 0.7406\n",
      "Epoch 70: saving model to checkpoints\\weights.70.hdf5\n",
      "804/804 [==============================] - 1s 2ms/step - loss: 0.5368 - accuracy: 0.7412\n",
      "Epoch 71/100\n",
      "802/804 [============================>.] - ETA: 0s - loss: 0.5367 - accuracy: 0.7406\n",
      "Epoch 71: saving model to checkpoints\\weights.71.hdf5\n",
      "804/804 [==============================] - 1s 2ms/step - loss: 0.5367 - accuracy: 0.7406\n",
      "Epoch 72/100\n",
      "797/804 [============================>.] - ETA: 0s - loss: 0.5369 - accuracy: 0.7404\n",
      "Epoch 72: saving model to checkpoints\\weights.72.hdf5\n",
      "804/804 [==============================] - 1s 2ms/step - loss: 0.5369 - accuracy: 0.7406\n",
      "Epoch 73/100\n",
      "775/804 [===========================>..] - ETA: 0s - loss: 0.5366 - accuracy: 0.7406\n",
      "Epoch 73: saving model to checkpoints\\weights.73.hdf5\n",
      "804/804 [==============================] - 1s 2ms/step - loss: 0.5366 - accuracy: 0.7409\n",
      "Epoch 74/100\n",
      "775/804 [===========================>..] - ETA: 0s - loss: 0.5369 - accuracy: 0.7410\n",
      "Epoch 74: saving model to checkpoints\\weights.74.hdf5\n",
      "804/804 [==============================] - 1s 2ms/step - loss: 0.5366 - accuracy: 0.7413\n",
      "Epoch 75/100\n",
      "789/804 [============================>.] - ETA: 0s - loss: 0.5368 - accuracy: 0.7405\n",
      "Epoch 75: saving model to checkpoints\\weights.75.hdf5\n",
      "804/804 [==============================] - 1s 2ms/step - loss: 0.5369 - accuracy: 0.7403\n",
      "Epoch 76/100\n",
      "796/804 [============================>.] - ETA: 0s - loss: 0.5362 - accuracy: 0.7408\n",
      "Epoch 76: saving model to checkpoints\\weights.76.hdf5\n",
      "804/804 [==============================] - 1s 2ms/step - loss: 0.5364 - accuracy: 0.7406\n",
      "Epoch 77/100\n",
      "779/804 [============================>.] - ETA: 0s - loss: 0.5375 - accuracy: 0.7393\n",
      "Epoch 77: saving model to checkpoints\\weights.77.hdf5\n",
      "804/804 [==============================] - 2s 2ms/step - loss: 0.5367 - accuracy: 0.7401\n",
      "Epoch 78/100\n",
      "802/804 [============================>.] - ETA: 0s - loss: 0.5362 - accuracy: 0.7406\n",
      "Epoch 78: saving model to checkpoints\\weights.78.hdf5\n",
      "804/804 [==============================] - 1s 2ms/step - loss: 0.5363 - accuracy: 0.7406\n",
      "Epoch 79/100\n",
      "774/804 [===========================>..] - ETA: 0s - loss: 0.5369 - accuracy: 0.7395\n",
      "Epoch 79: saving model to checkpoints\\weights.79.hdf5\n",
      "804/804 [==============================] - 1s 2ms/step - loss: 0.5362 - accuracy: 0.7402\n",
      "Epoch 80/100\n",
      "794/804 [============================>.] - ETA: 0s - loss: 0.5364 - accuracy: 0.7411\n",
      "Epoch 80: saving model to checkpoints\\weights.80.hdf5\n",
      "804/804 [==============================] - 1s 2ms/step - loss: 0.5365 - accuracy: 0.7413\n",
      "Epoch 81/100\n",
      "791/804 [============================>.] - ETA: 0s - loss: 0.5361 - accuracy: 0.7406\n",
      "Epoch 81: saving model to checkpoints\\weights.81.hdf5\n",
      "804/804 [==============================] - 1s 2ms/step - loss: 0.5362 - accuracy: 0.7407\n",
      "Epoch 82/100\n",
      "799/804 [============================>.] - ETA: 0s - loss: 0.5357 - accuracy: 0.7411\n",
      "Epoch 82: saving model to checkpoints\\weights.82.hdf5\n",
      "804/804 [==============================] - 1s 2ms/step - loss: 0.5360 - accuracy: 0.7411\n",
      "Epoch 83/100\n",
      "779/804 [============================>.] - ETA: 0s - loss: 0.5358 - accuracy: 0.7417\n",
      "Epoch 83: saving model to checkpoints\\weights.83.hdf5\n",
      "804/804 [==============================] - 1s 2ms/step - loss: 0.5359 - accuracy: 0.7418\n",
      "Epoch 84/100\n",
      "804/804 [==============================] - ETA: 0s - loss: 0.5361 - accuracy: 0.7405\n",
      "Epoch 84: saving model to checkpoints\\weights.84.hdf5\n",
      "804/804 [==============================] - 1s 2ms/step - loss: 0.5361 - accuracy: 0.7405\n",
      "Epoch 85/100\n",
      "788/804 [============================>.] - ETA: 0s - loss: 0.5359 - accuracy: 0.7417\n",
      "Epoch 85: saving model to checkpoints\\weights.85.hdf5\n",
      "804/804 [==============================] - 1s 2ms/step - loss: 0.5359 - accuracy: 0.7418\n",
      "Epoch 86/100\n",
      "795/804 [============================>.] - ETA: 0s - loss: 0.5360 - accuracy: 0.7415\n",
      "Epoch 86: saving model to checkpoints\\weights.86.hdf5\n",
      "804/804 [==============================] - 1s 2ms/step - loss: 0.5359 - accuracy: 0.7416\n",
      "Epoch 87/100\n",
      "786/804 [============================>.] - ETA: 0s - loss: 0.5356 - accuracy: 0.7411\n",
      "Epoch 87: saving model to checkpoints\\weights.87.hdf5\n",
      "804/804 [==============================] - 1s 2ms/step - loss: 0.5359 - accuracy: 0.7408\n",
      "Epoch 88/100\n",
      "776/804 [===========================>..] - ETA: 0s - loss: 0.5364 - accuracy: 0.7402\n",
      "Epoch 88: saving model to checkpoints\\weights.88.hdf5\n",
      "804/804 [==============================] - 1s 2ms/step - loss: 0.5356 - accuracy: 0.7407\n",
      "Epoch 89/100\n",
      "801/804 [============================>.] - ETA: 0s - loss: 0.5354 - accuracy: 0.7416\n",
      "Epoch 89: saving model to checkpoints\\weights.89.hdf5\n",
      "804/804 [==============================] - 2s 2ms/step - loss: 0.5354 - accuracy: 0.7415\n",
      "Epoch 90/100\n",
      "801/804 [============================>.] - ETA: 0s - loss: 0.5352 - accuracy: 0.7412\n",
      "Epoch 90: saving model to checkpoints\\weights.90.hdf5\n",
      "804/804 [==============================] - 1s 2ms/step - loss: 0.5354 - accuracy: 0.7410\n",
      "Epoch 91/100\n",
      "803/804 [============================>.] - ETA: 0s - loss: 0.5357 - accuracy: 0.7413\n",
      "Epoch 91: saving model to checkpoints\\weights.91.hdf5\n",
      "804/804 [==============================] - 1s 2ms/step - loss: 0.5358 - accuracy: 0.7413\n",
      "Epoch 92/100\n",
      "790/804 [============================>.] - ETA: 0s - loss: 0.5357 - accuracy: 0.7417\n",
      "Epoch 92: saving model to checkpoints\\weights.92.hdf5\n",
      "804/804 [==============================] - 1s 2ms/step - loss: 0.5359 - accuracy: 0.7414\n",
      "Epoch 93/100\n",
      "783/804 [============================>.] - ETA: 0s - loss: 0.5343 - accuracy: 0.7429\n",
      "Epoch 93: saving model to checkpoints\\weights.93.hdf5\n",
      "804/804 [==============================] - 1s 2ms/step - loss: 0.5351 - accuracy: 0.7421\n",
      "Epoch 94/100\n",
      "798/804 [============================>.] - ETA: 0s - loss: 0.5357 - accuracy: 0.7409\n",
      "Epoch 94: saving model to checkpoints\\weights.94.hdf5\n",
      "804/804 [==============================] - 1s 2ms/step - loss: 0.5358 - accuracy: 0.7408\n",
      "Epoch 95/100\n",
      "799/804 [============================>.] - ETA: 0s - loss: 0.5350 - accuracy: 0.7409\n",
      "Epoch 95: saving model to checkpoints\\weights.95.hdf5\n",
      "804/804 [==============================] - 1s 2ms/step - loss: 0.5350 - accuracy: 0.7409\n",
      "Epoch 96/100\n",
      "802/804 [============================>.] - ETA: 0s - loss: 0.5351 - accuracy: 0.7413\n",
      "Epoch 96: saving model to checkpoints\\weights.96.hdf5\n",
      "804/804 [==============================] - 2s 2ms/step - loss: 0.5352 - accuracy: 0.7413\n",
      "Epoch 97/100\n",
      "791/804 [============================>.] - ETA: 0s - loss: 0.5347 - accuracy: 0.7417\n",
      "Epoch 97: saving model to checkpoints\\weights.97.hdf5\n",
      "804/804 [==============================] - 2s 2ms/step - loss: 0.5351 - accuracy: 0.7412\n",
      "Epoch 98/100\n",
      "798/804 [============================>.] - ETA: 0s - loss: 0.5354 - accuracy: 0.7404\n",
      "Epoch 98: saving model to checkpoints\\weights.98.hdf5\n",
      "804/804 [==============================] - 1s 2ms/step - loss: 0.5353 - accuracy: 0.7405\n",
      "Epoch 99/100\n",
      "789/804 [============================>.] - ETA: 0s - loss: 0.5349 - accuracy: 0.7414\n",
      "Epoch 99: saving model to checkpoints\\weights.99.hdf5\n",
      "804/804 [==============================] - 1s 2ms/step - loss: 0.5350 - accuracy: 0.7413\n",
      "Epoch 100/100\n",
      "781/804 [============================>.] - ETA: 0s - loss: 0.5352 - accuracy: 0.7412\n",
      "Epoch 100: saving model to checkpoints\\weights.100.hdf5\n",
      "804/804 [==============================] - 1s 2ms/step - loss: 0.5349 - accuracy: 0.7416\n"
     ]
    }
   ],
   "source": [
    "# Train the model\n",
    "fit_model =nn.fit(X_train_scaled,y_train,epochs=100, callbacks=[cp_callback])"
   ]
  },
  {
   "cell_type": "markdown",
   "metadata": {},
   "source": [
    "#### Evaluate the model (for loss and accuracy) using the test data"
   ]
  },
  {
   "cell_type": "code",
   "execution_count": 45,
   "metadata": {},
   "outputs": [
    {
     "data": {
      "text/plain": [
       "<AxesSubplot:>"
      ]
     },
     "execution_count": 45,
     "metadata": {},
     "output_type": "execute_result"
    },
    {
     "data": {
      "image/png": "[encoded data removed]",
      "text/plain": [
       "<Figure size 432x288 with 1 Axes>"
      ]
     },
     "metadata": {},
     "output_type": "display_data"
    }
   ],
   "source": [
    "# Create a DataFrame containing training history\n",
    "history_df = pd.DataFrame(fit_model.history, index=range(1,len(fit_model.history[\"loss\"])+1))\n",
    "\n",
    "\n",
    "# Plot the loss\n",
    "history_df.plot(y=\"loss\")"
   ]
  },
  {
   "cell_type": "code",
   "execution_count": 46,
   "metadata": {},
   "outputs": [
    {
     "data": {
      "text/plain": [
       "<AxesSubplot:>"
      ]
     },
     "execution_count": 46,
     "metadata": {},
     "output_type": "execute_result"
    },
    {
     "data": {
      "image/png": "[encoded data removed]",
      "text/plain": [
       "<Figure size 432x288 with 1 Axes>"
      ]
     },
     "metadata": {},
     "output_type": "display_data"
    }
   ],
   "source": [
    "# Plot the accuracy\n",
    "history_df.plot(y=\"accuracy\")"
   ]
  },
  {
   "cell_type": "code",
   "execution_count": 49,
   "metadata": {},
   "outputs": [
    {
     "name": "stdout",
     "output_type": "stream",
     "text": [
      "268/268 - 0s - loss: 0.5559 - accuracy: 0.7268 - 261ms/epoch - 973us/step\n",
      "Loss: 0.5559356212615967, Accuracy: 0.7267638444900513\n"
     ]
    }
   ],
   "source": [
    "# Evaluate the completed model using the test data\n",
    "model_loss, model_accuracy = nn.evaluate(X_test_scaled,y_tests,verbose=2)\n",
    "print(f\"Loss: {model_loss}, Accuracy: {model_accuracy}\")"
   ]
  },
  {
   "cell_type": "markdown",
   "metadata": {},
   "source": [
    "#### Save the moel in HDF5 format"
   ]
  },
  {
   "cell_type": "code",
   "execution_count": null,
   "metadata": {},
   "outputs": [],
   "source": [
    "# Train the model\n",
    "fit_model = nn.fit(X_train,y_train,epochs=100)"
   ]
  },
  {
   "cell_type": "code",
   "execution_count": 51,
   "metadata": {},
   "outputs": [],
   "source": [
    "# Export our model to HDF5 file\n",
    "nn.save(\"./Trained_Models/AlphabetSoupCharity_D2.h5\")"
   ]
  },
  {
   "cell_type": "code",
   "execution_count": null,
   "metadata": {},
   "outputs": [],
   "source": [
    "# Create a DataFrame containing training history\n",
    "history_df = pd.DataFrame(fit_model.history, index=range(1,len(fit\n",
    "                                \n",
    "# Plot the loss\n",
    "history_df.plot(y=\"loss\")"
   ]
  },
  {
   "cell_type": "code",
   "execution_count": null,
   "metadata": {},
   "outputs": [],
   "source": [
    "# Evaluate the model using the test data\n",
    "model_loss, model_accuracy = nn.evaluate(X_test_scaled,y_test,verbose=2)\n",
    "print(f\"Loss: {model_loss}, Accuracy: {model_accuracy}\")"
   ]
  },
  {
   "cell_type": "code",
   "execution_count": null,
   "metadata": {},
   "outputs": [],
   "source": []
  }
 ],
 "metadata": {
  "kernelspec": {
   "display_name": "mlenv",
   "language": "python",
   "name": "mlenv"
  },
  "language_info": {
   "codemirror_mode": {
    "name": "ipython",
    "version": 3
   },
   "file_extension": ".py",
   "mimetype": "text/x-python",
   "name": "python",
   "nbconvert_exporter": "python",
   "pygments_lexer": "ipython3",
   "version": "3.7.11"
  }
 },
 "nbformat": 4,
 "nbformat_minor": 4
}
